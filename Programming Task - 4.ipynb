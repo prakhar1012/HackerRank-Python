{
 "cells": [
  {
   "cell_type": "markdown",
   "id": "9ac04387",
   "metadata": {},
   "source": [
    "# sWAP cASE"
   ]
  },
  {
   "cell_type": "code",
   "execution_count": null,
   "id": "8c4980a4",
   "metadata": {},
   "outputs": [],
   "source": [
    "def swap_case(s):\n",
    "    return s.swapcase()"
   ]
  },
  {
   "cell_type": "markdown",
   "id": "1e68607b",
   "metadata": {},
   "source": [
    "# String Split and Join"
   ]
  },
  {
   "cell_type": "code",
   "execution_count": null,
   "id": "3a9fb3a4",
   "metadata": {},
   "outputs": [],
   "source": [
    "def split_and_join(line):\n",
    "    return \"-\".join(line.split(\" \"))"
   ]
  },
  {
   "cell_type": "markdown",
   "id": "96b9b8db",
   "metadata": {},
   "source": [
    "# What's Your Name?"
   ]
  },
  {
   "cell_type": "code",
   "execution_count": null,
   "id": "8425c20d",
   "metadata": {},
   "outputs": [],
   "source": [
    "def print_full_name(first, last):\n",
    "    print(\"Hello \" + first_name + \" \" + last_name + \"! You just delved into python.\")"
   ]
  },
  {
   "cell_type": "markdown",
   "id": "3889a403",
   "metadata": {},
   "source": [
    "# Mutations"
   ]
  },
  {
   "cell_type": "code",
   "execution_count": null,
   "id": "7a5b6e05",
   "metadata": {},
   "outputs": [],
   "source": [
    "def mutate_string(string, position, character):\n",
    "    return string[:position] + character + string[position + 1:]"
   ]
  },
  {
   "cell_type": "markdown",
   "id": "b3d1f89d",
   "metadata": {},
   "source": [
    "# Find a string"
   ]
  },
  {
   "cell_type": "code",
   "execution_count": null,
   "id": "4b3bda28",
   "metadata": {},
   "outputs": [],
   "source": [
    "def count_substring(string, sub_string):\n",
    "    \n",
    "    n = 0\n",
    "    for i in range(len(string)):\n",
    "        if string[i: i+len(sub_string)] == sub_string:\n",
    "            n+= 1\n",
    "    return n"
   ]
  },
  {
   "cell_type": "markdown",
   "id": "93298c3f",
   "metadata": {},
   "source": [
    "# String Validators "
   ]
  },
  {
   "cell_type": "code",
   "execution_count": null,
   "id": "e63f93db",
   "metadata": {},
   "outputs": [],
   "source": [
    "    s = input()\n",
    "    print(any(map(str.isalnum, s)))\n",
    "    print(any(map(str.isalpha, s)))\n",
    "    print(any(map(str.isdigit, s)))\n",
    "    print(any(map(str.islower, s)))\n",
    "    print(any(map(str.isupper, s)))\n",
    "    "
   ]
  },
  {
   "cell_type": "markdown",
   "id": "aa3c3544",
   "metadata": {},
   "source": [
    "# Text Alignment"
   ]
  },
  {
   "cell_type": "code",
   "execution_count": null,
   "id": "2f13dd18",
   "metadata": {},
   "outputs": [],
   "source": [
    "thickness = int(input()) #This must be an odd number\n",
    "c = 'H'\n",
    "\n",
    "for i in range(thickness):\n",
    "    print((c*i).rjust(thickness-1)+c+(c*i).ljust(thickness-1))\n",
    "\n",
    "#Top Pillars\n",
    "for i in range(thickness+1):\n",
    "    print((c*thickness).center(thickness*2)+(c*thickness).center(thickness*6))\n",
    "\n",
    "#Middle Belt\n",
    "for i in range((thickness+1)//2):\n",
    "    print((c*thickness*5).center(thickness*6))    \n",
    "\n",
    "#Bottom Pillars\n",
    "for i in range(thickness+1):\n",
    "    print((c*thickness).center(thickness*2)+(c*thickness).center(thickness*6))    \n",
    "\n",
    "#Bottom Cone\n",
    "for i in range(thickness):\n",
    "    print(((c*(thickness-i-1)).rjust(thickness)+c+(c*(thickness-i-1)).ljust(thickness)).rjust(thickness*6))"
   ]
  },
  {
   "cell_type": "markdown",
   "id": "2710e1f7",
   "metadata": {},
   "source": [
    "# Text Wrap"
   ]
  },
  {
   "cell_type": "code",
   "execution_count": null,
   "id": "461d6078",
   "metadata": {},
   "outputs": [],
   "source": [
    "import textwrap\n",
    "\n",
    "def wrap(string, max_width):\n",
    "    return textwrap.fill(string,max_width)"
   ]
  },
  {
   "cell_type": "markdown",
   "id": "75d7ebb3",
   "metadata": {},
   "source": [
    "# Designer Door Mat"
   ]
  },
  {
   "cell_type": "code",
   "execution_count": null,
   "id": "57174d10",
   "metadata": {},
   "outputs": [],
   "source": [
    "N, M = map(int,input().split())\n",
    "for i in range(1,N,2):\n",
    "    print((i * \".|.\").center(M, \"-\"))\n",
    "\n",
    "print(\"WELCOME\".center(M, \"-\"))\n",
    "\n",
    "for i in range(N-2,-1,-2):\n",
    "    print((i * \".|.\").center(M, \"-\"))"
   ]
  },
  {
   "cell_type": "markdown",
   "id": "035ef86e",
   "metadata": {},
   "source": [
    "# String Formatting"
   ]
  },
  {
   "cell_type": "code",
   "execution_count": null,
   "id": "c7bb6f64",
   "metadata": {},
   "outputs": [],
   "source": [
    "def print_formatted(number):\n",
    "    for i in range(1, number + 1):\n",
    "        width = len(f\"{number:b}\")\n",
    "        print(f\"{i:{width}} {i:{width}o} {i:{width}X} {i:{width}b}\")"
   ]
  },
  {
   "cell_type": "markdown",
   "id": "0ee9d4fc",
   "metadata": {},
   "source": [
    "# Alphabet Rangoli"
   ]
  },
  {
   "cell_type": "code",
   "execution_count": null,
   "id": "51bd739e",
   "metadata": {},
   "outputs": [],
   "source": [
    "def print_rangoli(size):\n",
    "    centers = list(range(size - 1, 0, -1)) + list(range(0, size))\n",
    "    for c in centers:\n",
    "        digits = list(range(size - 1, c, -1)) + list(range(c, size))\n",
    "        print('-'.join([chr(d + ord('a')) for d in digits]).center(4 * size - 3, '-'))"
   ]
  },
  {
   "cell_type": "markdown",
   "id": "a6bc6278",
   "metadata": {},
   "source": [
    "# Capitalize!"
   ]
  },
  {
   "cell_type": "code",
   "execution_count": null,
   "id": "d69e1c6b",
   "metadata": {},
   "outputs": [],
   "source": [
    "def solve(s):\n",
    "    l=s.split(\" \")\n",
    "    ch=\"\"\n",
    "    for i in l:\n",
    "        ch=ch+i.capitalize()+\" \"\n",
    "    return ch "
   ]
  },
  {
   "cell_type": "markdown",
   "id": "347cafc0",
   "metadata": {},
   "source": [
    "# The Minion Game"
   ]
  },
  {
   "cell_type": "code",
   "execution_count": null,
   "id": "bd848b57",
   "metadata": {},
   "outputs": [],
   "source": [
    "vowels = ['A', 'E', 'I', 'O', 'U']\n",
    "def minion_game(string):\n",
    "    score_stuart = 0\n",
    "    score_kevin = 0\n",
    "    for ind in range(len(string)):\n",
    "        if string[ind] in vowels:\n",
    "            score_kevin += len(string) - ind\n",
    "        else:\n",
    "            score_stuart += len(string) - ind\n",
    "    \n",
    "    if score_kevin > score_stuart:\n",
    "        print(\"Kevin {}\".format(score_kevin))\n",
    "    elif score_kevin < score_stuart:\n",
    "        print(\"Stuart {}\".format(score_stuart))\n",
    "    else:\n",
    "        print(\"Draw\")"
   ]
  },
  {
   "cell_type": "markdown",
   "id": "d4fc9f54",
   "metadata": {},
   "source": [
    "# Merge the Tools!"
   ]
  },
  {
   "cell_type": "code",
   "execution_count": null,
   "id": "1624556e",
   "metadata": {},
   "outputs": [],
   "source": [
    "def merge_the_tools(string, k):\n",
    "    ns=''\n",
    "    for i,char in enumerate(string,1):\n",
    "        if char not in ns:\n",
    "            ns=''.join((ns,char))\n",
    "        if i%k==0:\n",
    "            print(ns)\n",
    "            ns=''"
   ]
  }
 ],
 "metadata": {
  "kernelspec": {
   "display_name": "Python 3 (ipykernel)",
   "language": "python",
   "name": "python3"
  },
  "language_info": {
   "codemirror_mode": {
    "name": "ipython",
    "version": 3
   },
   "file_extension": ".py",
   "mimetype": "text/x-python",
   "name": "python",
   "nbconvert_exporter": "python",
   "pygments_lexer": "ipython3",
   "version": "3.9.13"
  }
 },
 "nbformat": 4,
 "nbformat_minor": 5
}
