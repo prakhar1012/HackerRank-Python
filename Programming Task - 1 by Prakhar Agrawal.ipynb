{
 "cells": [
  {
   "cell_type": "markdown",
   "id": "9d2fe2f1",
   "metadata": {},
   "source": [
    "# 1.Say \"Hello, World!\" With Python*\n",
    "\n",
    "\n",
    "\n"
   ]
  },
  {
   "cell_type": "code",
   "execution_count": 3,
   "id": "9718a9a5",
   "metadata": {},
   "outputs": [
    {
     "name": "stdout",
     "output_type": "stream",
     "text": [
      "Hello, World!\n"
     ]
    }
   ],
   "source": [
    "strg=\"Hello, World!\"\n",
    "print(strg)"
   ]
  },
  {
   "cell_type": "markdown",
   "id": "14823654",
   "metadata": {},
   "source": [
    "# 2.Python If-Else*\n"
   ]
  },
  {
   "cell_type": "code",
   "execution_count": 4,
   "id": "989a2fac",
   "metadata": {},
   "outputs": [
    {
     "name": "stdout",
     "output_type": "stream",
     "text": [
      "25\n",
      "Weird\n"
     ]
    }
   ],
   "source": [
    "#!/bin/python3\n",
    "\n",
    "import math\n",
    "import os\n",
    "import random\n",
    "import re\n",
    "import sys\n",
    "\n",
    "\n",
    "\n",
    "if __name__ == '__main__':\n",
    "    n = int(input().strip())\n",
    "    if n%2==1:\n",
    "        print(\"Weird\")\n",
    "    elif 2<=n<=5:\n",
    "        print(\"Not Weird\")\n",
    "    elif 6<=n<=20:\n",
    "        print(\"Weird\")\n",
    "    elif n%2==0 and n>20:\n",
    "        print(\"Not Weird\")"
   ]
  },
  {
   "cell_type": "markdown",
   "id": "219f997c",
   "metadata": {},
   "source": [
    "# 3.Arithmetic Operators\n",
    "\n"
   ]
  },
  {
   "cell_type": "code",
   "execution_count": 5,
   "id": "5684676d",
   "metadata": {},
   "outputs": [
    {
     "name": "stdout",
     "output_type": "stream",
     "text": [
      "5\n",
      "4\n",
      "9\n",
      "1\n",
      "20\n"
     ]
    }
   ],
   "source": [
    "if __name__ == '__main__':\n",
    "    a = int(input())\n",
    "    b = int(input())\n",
    "    \n",
    "    sum=a+b\n",
    "    print(sum)\n",
    "    \n",
    "    sub=a-b\n",
    "    print(sub)\n",
    "    \n",
    "    mul=a*b\n",
    "    print(mul)"
   ]
  },
  {
   "cell_type": "markdown",
   "id": "b9d4fd7e",
   "metadata": {},
   "source": [
    "# 4.Python: Division"
   ]
  },
  {
   "cell_type": "code",
   "execution_count": 7,
   "id": "a840fa7d",
   "metadata": {},
   "outputs": [
    {
     "name": "stdout",
     "output_type": "stream",
     "text": [
      "1\n",
      "2\n",
      "0\n",
      "0.5\n"
     ]
    }
   ],
   "source": [
    "if __name__ == '__main__':\n",
    "    a = int(input())\n",
    "    b = int(input())\n",
    "    \n",
    "    div1=int(a//b)\n",
    "    div2=float(float(a)/float(b))\n",
    "    \n",
    "    print(div1)\n",
    "    print(div2)"
   ]
  },
  {
   "cell_type": "markdown",
   "id": "9d5de1e5",
   "metadata": {},
   "source": [
    "# 5.Loops\n",
    "\n"
   ]
  },
  {
   "cell_type": "code",
   "execution_count": 8,
   "id": "d6002d4b",
   "metadata": {},
   "outputs": [
    {
     "name": "stdout",
     "output_type": "stream",
     "text": [
      "5\n",
      "0\n",
      "1\n",
      "4\n",
      "9\n",
      "16\n"
     ]
    }
   ],
   "source": [
    "if __name__ == '__main__':\n",
    "    n = int(input())\n",
    "    \n",
    "    if 1<=n<=20:\n",
    "        for i in range(0,n):\n",
    "            print(i*i)"
   ]
  },
  {
   "cell_type": "markdown",
   "id": "29315bd7",
   "metadata": {},
   "source": [
    "# 6.Write a function"
   ]
  },
  {
   "cell_type": "code",
   "execution_count": 11,
   "id": "14c5ff11",
   "metadata": {},
   "outputs": [
    {
     "name": "stdout",
     "output_type": "stream",
     "text": [
      "2023\n"
     ]
    },
    {
     "data": {
      "text/plain": [
       "False"
      ]
     },
     "execution_count": 11,
     "metadata": {},
     "output_type": "execute_result"
    }
   ],
   "source": [
    "def is_leap(year):\n",
    "    leap = False\n",
    "    \n",
    "    # Write your logic here\n",
    "    if year%400==0:\n",
    "        leap=True\n",
    "    elif year%4==0 and year%100!=0:\n",
    "        leap=True\n",
    "    return leap\n",
    "\n",
    "year = int(input())\n",
    "is_leap(year)\n",
    "    "
   ]
  },
  {
   "cell_type": "markdown",
   "id": "7a35976b",
   "metadata": {},
   "source": [
    "# 7.Print Function"
   ]
  },
  {
   "cell_type": "code",
   "execution_count": 12,
   "id": "13315066",
   "metadata": {},
   "outputs": [
    {
     "name": "stdout",
     "output_type": "stream",
     "text": [
      "40\n",
      "12345678910111213141516171819202122232425262728293031323334353637383940"
     ]
    }
   ],
   "source": [
    "if __name__ == '__main__':\n",
    "    n = int(input())\n",
    "    \n",
    "    if 1<=n<=150:\n",
    "        for i in range(1,n+1):\n",
    "            print(str(i), end=\"\")\n",
    "            "
   ]
  },
  {
   "cell_type": "markdown",
   "id": "2a6916e0",
   "metadata": {},
   "source": [
    "# Programming Task-1 completed "
   ]
  }
 ],
 "metadata": {
  "kernelspec": {
   "display_name": "Python 3 (ipykernel)",
   "language": "python",
   "name": "python3"
  },
  "language_info": {
   "codemirror_mode": {
    "name": "ipython",
    "version": 3
   },
   "file_extension": ".py",
   "mimetype": "text/x-python",
   "name": "python",
   "nbconvert_exporter": "python",
   "pygments_lexer": "ipython3",
   "version": "3.9.13"
  }
 },
 "nbformat": 4,
 "nbformat_minor": 5
}
