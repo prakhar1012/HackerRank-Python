{
 "cells": [
  {
   "cell_type": "markdown",
   "id": "f717a0fa",
   "metadata": {},
   "source": [
    "# List Comprehensions"
   ]
  },
  {
   "cell_type": "code",
   "execution_count": null,
   "id": "5db7df08",
   "metadata": {
    "scrolled": true
   },
   "outputs": [],
   "source": [
    "if __name__ == '__main__':\n",
    "    x = int(input())\n",
    "    y = int(input())\n",
    "    z = int(input())\n",
    "    n = int(input())\n",
    "    \n",
    "    print(list([i,j,k] for i in range(x+1) for j in range(y+1) for k in range(z+1)  if i+j+k !=n))"
   ]
  },
  {
   "cell_type": "markdown",
   "id": "4058e845",
   "metadata": {},
   "source": [
    "# Find the Runner-Up Score!"
   ]
  },
  {
   "cell_type": "code",
   "execution_count": null,
   "id": "3d4f242a",
   "metadata": {},
   "outputs": [],
   "source": [
    "if __name__ == '__main__':\n",
    "    n = int(input())\n",
    "    arr = map(int, input().split())\n",
    "    print(sorted(list(set(arr)))[-2])"
   ]
  },
  {
   "cell_type": "markdown",
   "id": "af195b17",
   "metadata": {},
   "source": [
    "# Nested Lists\n",
    "\n"
   ]
  },
  {
   "cell_type": "code",
   "execution_count": null,
   "id": "eccd1d22",
   "metadata": {},
   "outputs": [],
   "source": [
    "if __name__ == '__main__':\n",
    "    a=[]\n",
    "    b=[]\n",
    "    c=[]\n",
    "    for _ in range(int(input())):\n",
    "        name = input()\n",
    "        score = float(input())\n",
    "        c.append([name,score])\n",
    "        b.append(score)\n",
    "        \n",
    "    b = sorted(set(b))\n",
    "    SecLowScore = b[1]\n",
    "    \n",
    "    for i in range(len(c)):\n",
    "        if c[i][1] == SecLowScore:\n",
    "            a.append(c[i][0])\n",
    "    a.sort()   \n",
    "    for i in a:\n",
    "        print(i)\n",
    "        "
   ]
  },
  {
   "cell_type": "markdown",
   "id": "276341aa",
   "metadata": {},
   "source": [
    "# Finding the percentage"
   ]
  },
  {
   "cell_type": "code",
   "execution_count": null,
   "id": "aad46bc4",
   "metadata": {},
   "outputs": [],
   "source": [
    "if __name__ == '__main__':\n",
    "    n = int(input())\n",
    "    student_marks = {}\n",
    "    for _ in range(n):\n",
    "        name, *line = input().split()\n",
    "        scores = list(map(float, line))\n",
    "        student_marks[name] = scores\n",
    "    query_name = input()\n",
    "    \n",
    "    output = list(student_marks[query_name])\n",
    "    per = sum(output)/len(output);\n",
    "    print(\"%.2f\" % per);"
   ]
  },
  {
   "cell_type": "markdown",
   "id": "4a84ee8c",
   "metadata": {},
   "source": [
    "# Lists"
   ]
  },
  {
   "cell_type": "code",
   "execution_count": null,
   "id": "6dfd64e1",
   "metadata": {},
   "outputs": [],
   "source": [
    "if __name__ == '__main__':\n",
    "    N = int(input())\n",
    "    l = []\n",
    "for i in range(N):\n",
    "    name = input()\n",
    "    spl = str.split(name)\n",
    "    if len(spl) == 3:\n",
    "        com = str(spl[0])\n",
    "        ind = int(spl[1])\n",
    "        obj = int(spl[2])\n",
    "    elif len(spl) == 2:\n",
    "        com = str(spl[0])\n",
    "        obj = int(spl[1])\n",
    "    elif len(spl) == 1:\n",
    "        com = str(spl[0])\n",
    "    if com == \"insert\":\n",
    "        l.insert(ind,obj)\n",
    "    elif com == \"print\":\n",
    "        print (l)\n",
    "    elif com == \"remove\":\n",
    "        l.remove(obj)\n",
    "    elif com == \"append\":\n",
    "        l.append(obj)\n",
    "    elif com == \"sort\":\n",
    "        l.sort()\n",
    "    elif com == \"pop\":\n",
    "        l.pop()\n",
    "    else:\n",
    "        l.reverse()"
   ]
  },
  {
   "cell_type": "markdown",
   "id": "e3f73eff",
   "metadata": {},
   "source": [
    "# Tuples\n",
    "\n"
   ]
  },
  {
   "cell_type": "code",
   "execution_count": null,
   "id": "b448b76b",
   "metadata": {},
   "outputs": [],
   "source": [
    "if __name__ == '__main__':\n",
    "    n = int(input())\n",
    "    integer_list = tuple(map(int, input().split()))\n",
    "    \n",
    "    print(hash(integer_list))"
   ]
  },
  {
   "cell_type": "markdown",
   "id": "e3fe7673",
   "metadata": {},
   "source": [
    "# Introduction to Sets\n",
    "\n"
   ]
  },
  {
   "cell_type": "code",
   "execution_count": null,
   "id": "0a4c64d6",
   "metadata": {},
   "outputs": [],
   "source": [
    "def average(array):\n",
    "    # your code goes here\n",
    "    return sum(set(array))/len(set(array))\n",
    "if __name__ == '__main__':"
   ]
  },
  {
   "cell_type": "markdown",
   "id": "00153f27",
   "metadata": {},
   "source": [
    "# No Idea!"
   ]
  },
  {
   "cell_type": "code",
   "execution_count": null,
   "id": "3cc4fd3b",
   "metadata": {},
   "outputs": [],
   "source": [
    "N = input().split()\n",
    "M = input().split()\n",
    "A = set(input().split())\n",
    "B = set(input().split())\n",
    "\n",
    "count= 0\n",
    "\n",
    "for i in M:\n",
    "    if i in A:\n",
    "        count += 1\n",
    "    if i in B:\n",
    "        count -= 1\n",
    "\n",
    "print(count)"
   ]
  },
  {
   "cell_type": "markdown",
   "id": "d6426f15",
   "metadata": {},
   "source": [
    "# Set .add()\n",
    "\n"
   ]
  },
  {
   "cell_type": "code",
   "execution_count": null,
   "id": "e8d02eca",
   "metadata": {},
   "outputs": [],
   "source": [
    "n = int(input())\n",
    "\n",
    "countries = set() \n",
    "\n",
    "for i in range(n):\n",
    "    countries.add(input())\n",
    "\n",
    "print (len(countries))"
   ]
  },
  {
   "cell_type": "markdown",
   "id": "7f951ea8",
   "metadata": {},
   "source": [
    "# Set .discard(), .remove() & .pop()"
   ]
  },
  {
   "cell_type": "code",
   "execution_count": null,
   "id": "5487ab92",
   "metadata": {},
   "outputs": [],
   "source": [
    "n = int(input())\n",
    "s = set(map(int, input().split()))\n",
    "\n",
    "m=int(input())\n",
    "for i in range(m):\n",
    "    p=input().split()\n",
    "    if p[0]==\"remove\":\n",
    "        s.remove(int(p[1]))\n",
    "    elif p[0]==\"discard\":\n",
    "        s.discard(int(p[1]))\n",
    "    else:\n",
    "        s.pop()\n",
    "print (sum(list(s)))"
   ]
  },
  {
   "cell_type": "markdown",
   "id": "3249b816",
   "metadata": {},
   "source": [
    "# Set .union() Operation\n",
    "\n"
   ]
  },
  {
   "cell_type": "code",
   "execution_count": null,
   "id": "c0c111dd",
   "metadata": {},
   "outputs": [],
   "source": [
    "n1=input()\n",
    "s1=set(input().split(\" \"))\n",
    "n2=input()\n",
    "s2=set(input().split(\" \"))\n",
    "s3=s1.union(s2)\n",
    "print (len(s3))"
   ]
  },
  {
   "cell_type": "markdown",
   "id": "37591f55",
   "metadata": {},
   "source": [
    "# Set .intersection() Operation\n",
    "\n"
   ]
  },
  {
   "cell_type": "code",
   "execution_count": null,
   "id": "1dda9612",
   "metadata": {},
   "outputs": [],
   "source": [
    "n1=input()\n",
    "s1=set(input().split(\" \"))\n",
    "n2=input()\n",
    "s2=set(input().split(\" \"))\n",
    "s3=s1.intersection(s2)\n",
    "print (len(s3))"
   ]
  },
  {
   "cell_type": "markdown",
   "id": "2b01857a",
   "metadata": {},
   "source": [
    "# Set .difference() Operation"
   ]
  },
  {
   "cell_type": "code",
   "execution_count": null,
   "id": "45c04a7e",
   "metadata": {},
   "outputs": [],
   "source": [
    "n1=input()\n",
    "s1=set(input().split(\" \"))\n",
    "n2=input()\n",
    "s2=set(input().split(\" \"))\n",
    "s3=s1.difference(s2)\n",
    "print(len(s3))"
   ]
  },
  {
   "cell_type": "markdown",
   "id": "f2f0981a",
   "metadata": {},
   "source": [
    "# Set .symmetric_difference() Operation"
   ]
  },
  {
   "cell_type": "code",
   "execution_count": null,
   "id": "31b3c054",
   "metadata": {},
   "outputs": [],
   "source": [
    "n1=input()\n",
    "s1=set(input().split(\" \"))\n",
    "n2=input()\n",
    "s2=set(input().split(\" \"))\n",
    "s3=s1.union(s2).difference(s1.intersection(s2))\n",
    "print(len(s3))"
   ]
  },
  {
   "cell_type": "markdown",
   "id": "a232f87d",
   "metadata": {},
   "source": [
    "# Set Mutations"
   ]
  },
  {
   "cell_type": "code",
   "execution_count": null,
   "id": "c4a66de4",
   "metadata": {},
   "outputs": [],
   "source": [
    "length=int(input())\n",
    "s=set(map(int, input().split()))\n",
    "N=int(input())\n",
    "\n",
    "for i in range(N):\n",
    "    (p, q)=input().split()\n",
    "    s2=set(map(int, input().split()))\n",
    "    if p=='intersection_update':\n",
    "        s.intersection_update(s2)\n",
    "    elif p=='update':\n",
    "        s.update(s2)\n",
    "    elif p=='symmetric_difference_update':\n",
    "        s.symmetric_difference_update(s2)\n",
    "    elif p=='difference_update':\n",
    "        s.difference_update(s2)\n",
    "print(sum(s)"
   ]
  },
  {
   "cell_type": "markdown",
   "id": "094cdd31",
   "metadata": {},
   "source": [
    "# Symmetric Difference"
   ]
  },
  {
   "cell_type": "code",
   "execution_count": null,
   "id": "ee78a298",
   "metadata": {},
   "outputs": [],
   "source": [
    "\n",
    "int(input())\n",
    "N = input().split()\n",
    "Nint = set(list(map(int, N)))\n",
    "int(input())\n",
    "M = input().split()\n",
    "Mint = set(list(map(int, M)))\n",
    "res = []\n",
    "for i in list(Nint.difference(Mint)):\n",
    "    res.append(i)\n",
    "for j in list(Mint.difference(Nint)):\n",
    "    res.append(j)\n",
    "for k in sorted(res):\n",
    "    print (k)"
   ]
  },
  {
   "cell_type": "markdown",
   "id": "a1fd0cec",
   "metadata": {},
   "source": [
    "# The Captain's Room"
   ]
  },
  {
   "cell_type": "code",
   "execution_count": null,
   "id": "0c8b5a54",
   "metadata": {},
   "outputs": [],
   "source": [
    "n=int(input())\n",
    "nums=map(int,input().split(\" \"))\n",
    "nums=sorted(nums)\n",
    "for i in range(1,len(nums)):\n",
    "    if i!=len(nums)-1:\n",
    "        if nums[i]!=nums[i-1] and nums[i]!=nums[i+1]:\n",
    "            print(nums[i])\n",
    "            break\n",
    "    else:\n",
    "        print(nums[i])"
   ]
  },
  {
   "cell_type": "markdown",
   "id": "5f70ccd6",
   "metadata": {},
   "source": [
    "# Check Subset"
   ]
  },
  {
   "cell_type": "code",
   "execution_count": null,
   "id": "9515a30e",
   "metadata": {},
   "outputs": [],
   "source": [
    "for i in range(int(input())):\n",
    "    a = int(input()); A = set(input().split())\n",
    "    b = int(input()); B = set(input().split())\n",
    "    if B.intersection(A)==A:\n",
    "        print(True)\n",
    "    \n",
    "    else:\n",
    "        print(False)"
   ]
  },
  {
   "cell_type": "markdown",
   "id": "20b58625",
   "metadata": {},
   "source": [
    "# Check Strict Superset"
   ]
  },
  {
   "cell_type": "code",
   "execution_count": null,
   "id": "de72bdf0",
   "metadata": {},
   "outputs": [],
   "source": [
    "A = set(map(int, input().split()))\n",
    "N = int(input())\n",
    "\n",
    "isstrictsuperset = True\n",
    "\n",
    "for i in range(N):\n",
    "    s = set(map(int, input().split()))\n",
    "    if not s.issubset(A):\n",
    "        isstrictsuperset = False\n",
    "    if len(s) >= len(A):\n",
    "        isstrictsuperset = False\n",
    "\n",
    "print(isstrictsuperset)"
   ]
  },
  {
   "cell_type": "markdown",
   "id": "33e9d617",
   "metadata": {},
   "source": [
    "# Programming Task-2 completed "
   ]
  }
 ],
 "metadata": {
  "kernelspec": {
   "display_name": "Python 3 (ipykernel)",
   "language": "python",
   "name": "python3"
  },
  "language_info": {
   "codemirror_mode": {
    "name": "ipython",
    "version": 3
   },
   "file_extension": ".py",
   "mimetype": "text/x-python",
   "name": "python",
   "nbconvert_exporter": "python",
   "pygments_lexer": "ipython3",
   "version": "3.9.13"
  }
 },
 "nbformat": 4,
 "nbformat_minor": 5
}
