{
 "cells": [
  {
   "cell_type": "markdown",
   "id": "8e7f30be",
   "metadata": {},
   "source": [
    "# Detect Floating Point Number"
   ]
  },
  {
   "cell_type": "code",
   "execution_count": null,
   "id": "2ca1f47f",
   "metadata": {},
   "outputs": [],
   "source": [
    "def isFloat(num):\n",
    "    try:\n",
    "        float(num)\n",
    "        return True\n",
    "    except ValueError:\n",
    "        return False\n",
    "\n",
    "for _ in range(int(input())):\n",
    "    N = input()\n",
    "    if N == \"0\":\n",
    "        print(\"False\")\n",
    "    else:\n",
    "        print(isFloat(N))"
   ]
  },
  {
   "cell_type": "markdown",
   "id": "7916a6f6",
   "metadata": {},
   "source": [
    "# Re.split()"
   ]
  },
  {
   "cell_type": "code",
   "execution_count": null,
   "id": "21a01830",
   "metadata": {},
   "outputs": [],
   "source": [
    "regex_pattern = r'[,.]'\n",
    "import re\n",
    "print(\"\\n\".join(re.split(regex_pattern, input())))"
   ]
  },
  {
   "cell_type": "markdown",
   "id": "270186a1",
   "metadata": {},
   "source": [
    "# Group(), Groups() & Groupdict()"
   ]
  },
  {
   "cell_type": "code",
   "execution_count": null,
   "id": "6b3cab63",
   "metadata": {},
   "outputs": [],
   "source": [
    "import re\n",
    "expression=r\"([a-zA-Z0-9])\\1+\"\n",
    "m=re.search(expression,input())\n",
    "if m:\n",
    "    print(m.group(1))\n",
    "else:\n",
    "    print(-1)"
   ]
  },
  {
   "cell_type": "markdown",
   "id": "4c4d22a0",
   "metadata": {},
   "source": [
    "# Re.findall() & Re.finditer()"
   ]
  },
  {
   "cell_type": "code",
   "execution_count": null,
   "id": "126463d0",
   "metadata": {},
   "outputs": [],
   "source": [
    "import re\n",
    "consnt='qwrtypsdfghjklzxcvbnm'\n",
    "vowels='aeiou'\n",
    "match=re.findall(r'(?<=['+consnt+'])(['+vowels+']{2,})(?=['+consnt+'])', input(),flags=re.I)\n",
    "if match:\n",
    "    for i in match:\n",
    "        print(i)\n",
    "else:\n",
    "    print(-1)"
   ]
  },
  {
   "cell_type": "markdown",
   "id": "50155d0f",
   "metadata": {},
   "source": [
    "# Re.start() & Re.end()"
   ]
  },
  {
   "cell_type": "code",
   "execution_count": null,
   "id": "4a4ab4e6",
   "metadata": {},
   "outputs": [],
   "source": [
    "import re\n",
    "\n",
    "S, k = input(), input()\n",
    "matches = re.finditer(r'(?=(' + k + '))', S)\n",
    "\n",
    "anymatch = False\n",
    "for match in matches:\n",
    "    anymatch = True\n",
    "    print ((match.start(1), match.end(1) - 1))\n",
    "\n",
    "if anymatch == False:\n",
    "    print ((-1, -1))"
   ]
  },
  {
   "cell_type": "markdown",
   "id": "7e9f1559",
   "metadata": {},
   "source": [
    "# Regex Substitution"
   ]
  },
  {
   "cell_type": "code",
   "execution_count": null,
   "id": "5d85336d",
   "metadata": {},
   "outputs": [],
   "source": [
    "import re\n",
    "[ print(\\\n",
    "    re.sub(r'(?<= )\\|\\|(?= )', \"or\", (\\\n",
    "    re.sub(r'(?<= )\\&\\&(?= )', \"and\", \\\n",
    "    input())))) \\\n",
    "    for _ in range(int(input()))\\\n",
    "]"
   ]
  },
  {
   "cell_type": "markdown",
   "id": "99240c16",
   "metadata": {},
   "source": [
    "# Validating Roman Numerals"
   ]
  },
  {
   "cell_type": "code",
   "execution_count": null,
   "id": "c59a01ad",
   "metadata": {},
   "outputs": [],
   "source": [
    "regex_pattern = r'''(?ix)^\n",
    "    (?P<thousands>M{0,3})\n",
    "     (?P<hundreds>CM|DC{,3}|CD|C{,3})\n",
    "         (?P<tens>XC|LX{,3}|XL|X{,3})\n",
    "        (?P<units>IX|VI{,3}|IV|I{,3})\n",
    "$\n",
    "'''\n",
    "import re\n",
    "print(str(bool(re.match(regex_pattern, input()))))"
   ]
  },
  {
   "cell_type": "markdown",
   "id": "82f0d6a5",
   "metadata": {},
   "source": [
    "# Validating phone numbers"
   ]
  },
  {
   "cell_type": "code",
   "execution_count": null,
   "id": "9ffd2423",
   "metadata": {},
   "outputs": [],
   "source": [
    "import re\n",
    "for _ in range(int(input())):\n",
    "    text = input()\n",
    "    get = re.compile(r'^(8|7|9)(\\d{9})$')\n",
    "    if get.match(text):\n",
    "       print('YES')\n",
    "    else:\n",
    "       print('NO')"
   ]
  },
  {
   "cell_type": "markdown",
   "id": "fd6744b3",
   "metadata": {},
   "source": [
    "# Validating and Parsing Email Addresses"
   ]
  },
  {
   "cell_type": "code",
   "execution_count": null,
   "id": "a26469cd",
   "metadata": {},
   "outputs": [],
   "source": [
    "import email.utils\n",
    "import re\n",
    "\n",
    "if __name__ == \"__main__\":\n",
    "\n",
    "    n = int(input())\n",
    "\n",
    "    for i in range(n):\n",
    "        name, mail = email.utils.parseaddr(input())\n",
    "        \n",
    "        if bool(re.match(r'[A-Za-z](\\w|\\.|-|_)+@[A-Za-z]+\\.[A-Za-z]{1,3}$', mail)):\n",
    "            print(email.utils.formataddr((name, mail)))"
   ]
  },
  {
   "cell_type": "markdown",
   "id": "39992cb0",
   "metadata": {},
   "source": [
    "# Hex Color Code"
   ]
  },
  {
   "cell_type": "code",
   "execution_count": null,
   "id": "bd9ecabe",
   "metadata": {},
   "outputs": [],
   "source": [
    "import sys,re\n",
    "if sys.version_info[0]>=3: raw_input=input\n",
    "inside_css=False\n",
    "for _ in range(int(raw_input())):\n",
    "\ts=raw_input().strip()\n",
    "\tif not s:\n",
    "\t\tpass\n",
    "\telif s[-1]=='{':\n",
    "\t\tinside_css=True\n",
    "\telif s[-1]=='}':\n",
    "\t\tinside_css=False\n",
    "\telif inside_css:\n",
    "\t\tfor e in re.finditer(r'#[0-9a-fA-F]+',s):\n",
    "\t\t\tif len(e.group(0))==4 or len(e.group(0))==7: print(e.group(0))"
   ]
  },
  {
   "cell_type": "markdown",
   "id": "c33cc0d2",
   "metadata": {},
   "source": [
    "# Validating UID"
   ]
  },
  {
   "cell_type": "code",
   "execution_count": null,
   "id": "e4df47bc",
   "metadata": {},
   "outputs": [],
   "source": [
    "import re\n",
    "for _ in range(int(input())):\n",
    "    UID = input()\n",
    "    isvalid = \"Invalid\"\n",
    "    if len(UID) == 10:\n",
    "        count = 0\n",
    "        matches = re.findall(r'(?:([0-9A-Za-z])(?!.*\\1))', UID)\n",
    "        for match in matches:\n",
    "            count += 1\n",
    "        if count == 10:\n",
    "            if re.search(r'(.*[0-9]+.*[0-9]+.*[0-9]+.*)', UID) != None:\n",
    "                if re.search(r'(.*[A-Za-z]+.*[A-Za-z]+.*)', UID) != None:\n",
    "                    isvalid = \"Valid\"\n",
    "    print (isvalid)"
   ]
  },
  {
   "cell_type": "markdown",
   "id": "4fe8184a",
   "metadata": {},
   "source": [
    "# Validating Credit Card Numbers"
   ]
  },
  {
   "cell_type": "code",
   "execution_count": null,
   "id": "bb2336ea",
   "metadata": {},
   "outputs": [],
   "source": [
    "import re\n",
    "\n",
    "for _ in range(int(input())):\n",
    "    item = input()\n",
    "    #match rule four. \n",
    "    if '-' in item:\n",
    "        if not re.match(r\"^\\d{4}\\-\\d{4}\\-\\d{4}\\-\\d{4}$\", item):\n",
    "            print('Invalid')\n",
    "            continue\n",
    "    #match other rules\n",
    "    if re.match(r\"^([456])(?!\\1{3,})((\\d)(?!\\3{3,})){15}$\", item.replace('-', '')):\n",
    "        print('Valid')\n",
    "    else:\n",
    "        print('Invalid')"
   ]
  },
  {
   "cell_type": "markdown",
   "id": "b1f2160e",
   "metadata": {},
   "source": [
    "# HTML Parser - Part 1"
   ]
  },
  {
   "cell_type": "code",
   "execution_count": null,
   "id": "9a6404bc",
   "metadata": {},
   "outputs": [],
   "source": [
    "from html.parser import HTMLParser\n",
    "\n",
    "class MyHTMLParser(HTMLParser):\n",
    "    def handle_starttag(self, tag, attrs):\n",
    "        print ('Start :', tag)\n",
    "        for ele in attrs:\n",
    "            print ('->', ele[0], '>', ele[1])\n",
    "\n",
    "    def handle_endtag(self, tag):\n",
    "        print ('End   :', tag)\n",
    "\n",
    "    def handle_startendtag(self, tag, attrs):\n",
    "        print ('Empty :', tag)\n",
    "        for ele in attrs:\n",
    "            print ('->', ele[0], '>', ele[1])\n",
    "\n",
    "parser = MyHTMLParser()\n",
    "for _ in range(int(input())):\n",
    "    parser.feed(input())"
   ]
  },
  {
   "cell_type": "markdown",
   "id": "5077f929",
   "metadata": {},
   "source": [
    "# HTML Parser - Part 2"
   ]
  },
  {
   "cell_type": "code",
   "execution_count": null,
   "id": "5d1d1f33",
   "metadata": {},
   "outputs": [],
   "source": [
    "from html.parser import HTMLParser\n",
    "\n",
    "class MyHTMLParser(HTMLParser):\n",
    "    def handle_comment(self, comment):\n",
    "        if '\\n' in comment:\n",
    "            print('>>> Multi-line Comment')\n",
    "        else:\n",
    "            print('>>> Single-line Comment')\n",
    "\n",
    "        print(comment)\n",
    "\n",
    "    def handle_data(self, data):\n",
    "        if data == '\\n': return\n",
    "        print('>>> Data')\n",
    "        print(data)\n",
    "\n",
    "html = \"\"\n",
    "for i in range(int(input())):\n",
    "    html += input().rstrip()\n",
    "    html += '\\n'\n",
    "\n",
    "parser = MyHTMLParser()\n",
    "parser.feed(html)\n",
    "parser.close()"
   ]
  },
  {
   "cell_type": "markdown",
   "id": "bb18b11a",
   "metadata": {},
   "source": [
    "# Detect HTML Tags, Attributes and Attribute Values "
   ]
  },
  {
   "cell_type": "code",
   "execution_count": null,
   "id": "22ff9f96",
   "metadata": {},
   "outputs": [],
   "source": [
    "from html.parser import HTMLParser\n",
    "class MyHTMLParser(HTMLParser):\n",
    "    def handle_starttag(self, tag, attrs):\n",
    "        print(tag)\n",
    "        for i in attrs:\n",
    "            print(\"->\", i[0], \">\", i[1])\n",
    "pars = MyHTMLParser()\n",
    "pars.feed(\"\".join([input().strip() for _ in range(int(input()))]))"
   ]
  },
  {
   "cell_type": "markdown",
   "id": "f231bc12",
   "metadata": {},
   "source": [
    "# Validating Postal Codes"
   ]
  },
  {
   "cell_type": "code",
   "execution_count": null,
   "id": "5e27c167",
   "metadata": {},
   "outputs": [],
   "source": [
    "regex_integer_in_range = r\"_________\"\t# Do not delete 'r'.\n",
    "regex_alternating_repetitive_digit_pair = r\"_________\"\t# Do not delete 'r'.\n",
    "regex_integer_in_range = r\"^\\d{6}$\"\n",
    "regex_alternating_repetitive_digit_pair = r\"(\\d)(?=.\\1)\""
   ]
  },
  {
   "cell_type": "markdown",
   "id": "e7113e0c",
   "metadata": {},
   "source": [
    "# Matrix Script\n"
   ]
  },
  {
   "cell_type": "code",
   "execution_count": null,
   "id": "3d429057",
   "metadata": {},
   "outputs": [],
   "source": [
    "output =''\n",
    "number = 0\n",
    "\n",
    "while number < m:\n",
    "    for item in matrix:\n",
    "        output+=item[number]\n",
    "        # print(item[number])\n",
    "    number = number + 1\n",
    "\n",
    "print(re.sub(r'(?<=\\w)[^\\w]+?(?=\\w)', ' ', output))"
   ]
  }
 ],
 "metadata": {
  "kernelspec": {
   "display_name": "Python 3 (ipykernel)",
   "language": "python",
   "name": "python3"
  },
  "language_info": {
   "codemirror_mode": {
    "name": "ipython",
    "version": 3
   },
   "file_extension": ".py",
   "mimetype": "text/x-python",
   "name": "python",
   "nbconvert_exporter": "python",
   "pygments_lexer": "ipython3",
   "version": "3.9.13"
  }
 },
 "nbformat": 4,
 "nbformat_minor": 5
}
