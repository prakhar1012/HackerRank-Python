{
 "cells": [
  {
   "cell_type": "markdown",
   "id": "724ed553",
   "metadata": {},
   "source": [
    "# Polar Coordinates"
   ]
  },
  {
   "cell_type": "code",
   "execution_count": null,
   "id": "51dd4fea",
   "metadata": {},
   "outputs": [],
   "source": [
    "import cmath\n",
    "c=eval(input())\n",
    "print(abs(c))\n",
    "print(cmath.phase(c))"
   ]
  },
  {
   "cell_type": "markdown",
   "id": "b3a98f31",
   "metadata": {},
   "source": [
    "# Mod Divmod"
   ]
  },
  {
   "cell_type": "code",
   "execution_count": null,
   "id": "9ef1568e",
   "metadata": {},
   "outputs": [],
   "source": [
    "from __future__ import division\n",
    "\n",
    "a= int(input())\n",
    "b= int(input())\n",
    "\n",
    "print(a//b)\n",
    "print(a%b)\n",
    "print(divmod(a,b))"
   ]
  },
  {
   "cell_type": "markdown",
   "id": "28837766",
   "metadata": {},
   "source": [
    "# Power - Mod Power"
   ]
  },
  {
   "cell_type": "code",
   "execution_count": null,
   "id": "b7d7eac9",
   "metadata": {},
   "outputs": [],
   "source": [
    "a = int(input())\n",
    "b = int(input())\n",
    "m = int(input())\n",
    "\n",
    "print(a ** b)\n",
    "print(pow(a, b, m))"
   ]
  },
  {
   "cell_type": "markdown",
   "id": "1e17d18c",
   "metadata": {},
   "source": [
    "# Integers Come In All Sizes"
   ]
  },
  {
   "cell_type": "code",
   "execution_count": null,
   "id": "0f6bc046",
   "metadata": {},
   "outputs": [],
   "source": [
    "a=int(input())\n",
    "b=int(input())\n",
    "c=int(input())\n",
    "d=int(input())\n",
    "print(a**b + c**d)"
   ]
  },
  {
   "cell_type": "markdown",
   "id": "daa5f958",
   "metadata": {},
   "source": [
    "# Find Angle MBC "
   ]
  },
  {
   "cell_type": "code",
   "execution_count": null,
   "id": "87aa7903",
   "metadata": {},
   "outputs": [],
   "source": [
    "from math import atan, degrees\n",
    "AB = int(input())\n",
    "BC = int(input())\n",
    "\n",
    "angleC = atan(AB/BC)\n",
    "print((round(degrees(angleC))),chr(176),sep='')"
   ]
  },
  {
   "cell_type": "markdown",
   "id": "b126c5c2",
   "metadata": {},
   "source": [
    "# Triangle Quest"
   ]
  },
  {
   "cell_type": "code",
   "execution_count": null,
   "id": "badb5c8d",
   "metadata": {},
   "outputs": [],
   "source": [
    "for i in range(1,int(input())):\n",
    "    print(int((10 ** i - 1) / 9) * i)"
   ]
  },
  {
   "cell_type": "markdown",
   "id": "5cfa3579",
   "metadata": {},
   "source": [
    "# Triangle Quest 2"
   ]
  },
  {
   "cell_type": "code",
   "execution_count": null,
   "id": "bc8518ae",
   "metadata": {},
   "outputs": [],
   "source": [
    "for i in range(1,int(input())+1):\n",
    "    print(sum(map(lambda x:10 ** x, range(i))) ** 2)\n",
    "    "
   ]
  },
  {
   "cell_type": "markdown",
   "id": "af622f97",
   "metadata": {},
   "source": [
    "# Programming Task-3 completed"
   ]
  }
 ],
 "metadata": {
  "kernelspec": {
   "display_name": "Python 3 (ipykernel)",
   "language": "python",
   "name": "python3"
  },
  "language_info": {
   "codemirror_mode": {
    "name": "ipython",
    "version": 3
   },
   "file_extension": ".py",
   "mimetype": "text/x-python",
   "name": "python",
   "nbconvert_exporter": "python",
   "pygments_lexer": "ipython3",
   "version": "3.9.13"
  }
 },
 "nbformat": 4,
 "nbformat_minor": 5
}
